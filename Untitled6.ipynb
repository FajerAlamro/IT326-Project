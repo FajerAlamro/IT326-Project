{
  "nbformat": 4,
  "nbformat_minor": 0,
  "metadata": {
    "colab": {
      "provenance": []
    },
    "kernelspec": {
      "name": "python3",
      "display_name": "Python 3"
    },
    "language_info": {
      "name": "python"
    }
  },
  "cells": [
    {
      "cell_type": "markdown",
      "source": [
        "#Phase 3 :\n",
        "#Classification:"
      ],
      "metadata": {
        "id": "8AZQmzO8TuEd"
      }
    },
    {
      "cell_type": "code",
      "source": [
        "from sklearn.metrics import confusion_matrix\n",
        "import matplotlib.pyplot as plt\n",
        "from sklearn.tree import DecisionTreeClassifier\n",
        "from sklearn.metrics import ConfusionMatrixDisplay\n"
      ],
      "metadata": {
        "id": "poPiOvd-T6Hr"
      },
      "execution_count": null,
      "outputs": []
    },
    {
      "cell_type": "markdown",
      "source": [
        "# Information Gain (entropy):\n",
        "Splitting Data into: 70% Training and 30% Test\n"
      ],
      "metadata": {
        "id": "oEMsunBqUA1J"
      }
    },
    {
      "cell_type": "code",
      "source": [
        "#Create decision tree classifer object:\n",
        "clf_entropy = DecisionTreeClassifier(criterion='entropy')\n",
        "\n",
        "#Train decision tree classifer\n",
        "clf_entropy= clf_entropy.fit(X_train, y_train)\n",
        "\n",
        "#Predict the response for test dataset\n",
        "y_pred_entropy = clf.predict (X_test)"
      ],
      "metadata": {
        "id": "2c-cVjiJUzN9"
      },
      "execution_count": null,
      "outputs": []
    },
    {
      "cell_type": "markdown",
      "source": [
        "# confusion matrix:\n"
      ],
      "metadata": {
        "id": "ACFplNcUbc9j"
      }
    },
    {
      "cell_type": "code",
      "source": [
        "# Compute and print the confusion matrix\n",
        "cm = confusion_matrix(y_test, y_pred)\n",
        "print(cm)\n",
        "\n",
        "    disp = ConfusionMatrixDisplay(confusion_matrix=cm)\n",
        "    disp.plot()\n",
        "    plt.title(f'Confusion Matrix - Test Size: {test_size} - Entropy')\n",
        "    plt.show()"
      ],
      "metadata": {
        "id": "tpZtDDQ_bxE9"
      },
      "execution_count": null,
      "outputs": []
    }
  ]
}