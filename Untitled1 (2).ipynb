{
  "cells": [
    {
      "cell_type": "markdown",
      "metadata": {
        "id": "Kkc1sBkirgRQ"
      },
      "source": [
        "\n",
        "\n",
        "*   Remove attributes with an absolute correlation"
      ]
    },
    {
      "cell_type": "markdown",
      "metadata": {
        "id": "ynMZUPbMr1fF"
      },
      "source": [
        "The purpose of this analysis is to identify and remove attributes that show high correlation in a health dataset. This helps to avoid redundancy and enhance model efficiency. Highly correlated features can lead to Complexity, which might negatively affect the performance of statistical models.\n",
        "In this analysis, we computed the correlation matrix for numerical variables and set a threshold of 0.75 to highlight pairs of highly correlated attributes.\n",
        "  \n",
        " **Removal of Attributes:**The analysis identified pairs of attributes with an absolute correlation coefficient of 0.75 or higher. One attribute from each pair was systematically removed, streamlining the dataset by retaining only one representative feature from each highly correlated group.\n",
        "\n",
        "- **Original DataFrame:**The original dataset consists of 4000 rows and 13 columns, including Patient ID, Age, Sex, Cholesterol, Systolic Blood Pressure, diastolic blood pressure, Heart Rate, Diabetes, Family History, Smoking, Diet, Continent, and Heart Attack Risk.\n",
        "  \n",
        "- **DataFrame After Removing Highly Correlated Attributes:** After applying the correlation threshold, the filtered DataFrame retained only essential attributes. However, in this specific analysis, no attributes were removed because the highest correlation coefficient observed was below 0.75. Therefore, the original DataFrame remains unchanged."
      ]
    },
    {
      "cell_type": "code",
      "execution_count": 8,
      "metadata": {
        "colab": {
          "base_uri": "https://localhost:8080/"
        },
        "collapsed": true,
        "id": "1HSQfK5CrklS",
        "outputId": "481539ce-d474-407b-a85f-ee0d0d60eb3c"
      },
      "outputs": [
        {
          "name": "stdout",
          "output_type": "stream",
          "text": [
            "\n",
            "Original DataFrame:\n",
            "     Patient ID   Age     Sex   Cholesterol  Systolic BP  Diastolic BP  \\\n",
            "0       BMW7812    67    Male           208          158            88   \n",
            "1       CZE1114    21    Male           389          165            93   \n",
            "2       BNI9906    21  Female           324          174            99   \n",
            "3       JLN3497    84    Male           383          163           100   \n",
            "4       GFO8847    66    Male           318           91            88   \n",
            "...         ...   ...     ...           ...          ...           ...   \n",
            "3995    UII9280    66    Male           201          172            91   \n",
            "3996    SZU8764    42  Female           129          109            63   \n",
            "3997    CQJ6551    81    Male           127          153           110   \n",
            "3998    DZQ4343    81    Male           244          109           103   \n",
            "3999    WER4678    44  Female           150          100            97   \n",
            "\n",
            "       Heart Rate  Diabetes  Family History  Smoking       Diet  \\\n",
            "0              72         0               0        1    Average   \n",
            "1              98         1               1        1  Unhealthy   \n",
            "2              72         1               0        0    Healthy   \n",
            "3              73         1               1        1    Average   \n",
            "4              93         1               1        1  Unhealthy   \n",
            "...           ...       ...             ...      ...        ...   \n",
            "3995           59         1               0        1    Healthy   \n",
            "3996           76         1               1        1    Healthy   \n",
            "3997          109         0               1        1    Healthy   \n",
            "3998           78         1               1        1    Average   \n",
            "3999          100         1               1        0    Healthy   \n",
            "\n",
            "          Continent  Heart Attack Risk  \n",
            "0     South America                  0  \n",
            "1     North America                  0  \n",
            "2            Europe                  1  \n",
            "3     North America                  0  \n",
            "4              Asia                  1  \n",
            "...             ...                ...  \n",
            "3995         Europe                  1  \n",
            "3996         Europe                  1  \n",
            "3997           Asia                  0  \n",
            "3998      Australia                  1  \n",
            "3999         Europe                  1  \n",
            "\n",
            "[4000 rows x 13 columns]\n",
            "\n",
            "DataFrame after removing highly correlated attributes:\n",
            "     Patient ID   Age     Sex   Cholesterol  Systolic BP  Diastolic BP  \\\n",
            "0       BMW7812    67    Male           208          158            88   \n",
            "1       CZE1114    21    Male           389          165            93   \n",
            "2       BNI9906    21  Female           324          174            99   \n",
            "3       JLN3497    84    Male           383          163           100   \n",
            "4       GFO8847    66    Male           318           91            88   \n",
            "...         ...   ...     ...           ...          ...           ...   \n",
            "3995    UII9280    66    Male           201          172            91   \n",
            "3996    SZU8764    42  Female           129          109            63   \n",
            "3997    CQJ6551    81    Male           127          153           110   \n",
            "3998    DZQ4343    81    Male           244          109           103   \n",
            "3999    WER4678    44  Female           150          100            97   \n",
            "\n",
            "       Heart Rate  Diabetes  Family History  Smoking       Diet  \\\n",
            "0              72         0               0        1    Average   \n",
            "1              98         1               1        1  Unhealthy   \n",
            "2              72         1               0        0    Healthy   \n",
            "3              73         1               1        1    Average   \n",
            "4              93         1               1        1  Unhealthy   \n",
            "...           ...       ...             ...      ...        ...   \n",
            "3995           59         1               0        1    Healthy   \n",
            "3996           76         1               1        1    Healthy   \n",
            "3997          109         0               1        1    Healthy   \n",
            "3998           78         1               1        1    Average   \n",
            "3999          100         1               1        0    Healthy   \n",
            "\n",
            "          Continent  Heart Attack Risk  \n",
            "0     South America                  0  \n",
            "1     North America                  0  \n",
            "2            Europe                  1  \n",
            "3     North America                  0  \n",
            "4              Asia                  1  \n",
            "...             ...                ...  \n",
            "3995         Europe                  1  \n",
            "3996         Europe                  1  \n",
            "3997           Asia                  0  \n",
            "3998      Australia                  1  \n",
            "3999         Europe                  1  \n",
            "\n",
            "[4000 rows x 13 columns]\n"
          ]
        }
      ],
      "source": [
        "import pandas as pd\n",
        "import numpy as np\n",
        "\n",
        "data = pd.read_csv('heart.attack.csv')\n",
        "df = pd.DataFrame(data)\n",
        "\n",
        "correlation_matrix = df.corr(numeric_only=True)\n",
        "correlation_threshold = 0.75\n",
        "highly_correlated_pairs = np.where(np.abs(correlation_matrix) >= correlation_threshold)\n",
        "numeric_attributes = list(df.select_dtypes(include='number').columns)\n",
        "\n",
        "attributes_to_remove = set()\n",
        "\n",
        "for i, j in zip(*highly_correlated_pairs):\n",
        "    if i != j and numeric_attributes[i] not in attributes_to_remove and numeric_attributes[j] not in attributes_to_remove:\n",
        "        attribute_i = numeric_attributes[i]\n",
        "        attribute_j = numeric_attributes[j]\n",
        "        attributes_to_remove.add(attribute_j)\n",
        "\n",
        "df_filtered = df.drop(columns=attributes_to_remove)\n",
        "\n",
        "print(\"\\nOriginal DataFrame:\")\n",
        "print(df)\n",
        "\n",
        "print(\"\\nDataFrame after removing highly correlated attributes:\")\n",
        "print(df_filtered)"
      ]
    }
  ],
  "metadata": {
    "colab": {
      "provenance": []
    },
    "kernelspec": {
      "display_name": "Python 3",
      "name": "python3"
    },
    "language_info": {
      "name": "python"
    }
  },
  "nbformat": 4,
  "nbformat_minor": 0
}
