{
  "metadata": {
    "kernelspec": {
      "name": "python",
      "display_name": "Python (Pyodide)",
      "language": "python"
    },
    "language_info": {
      "codemirror_mode": {
        "name": "python",
        "version": 3
      },
      "file_extension": ".py",
      "mimetype": "text/x-python",
      "name": "python",
      "nbconvert_exporter": "python",
      "pygments_lexer": "ipython3",
      "version": "3.8"
    }
  },
  "nbformat_minor": 4,
  "nbformat": 4,
  "cells": [
    {
      "cell_type": "code",
      "source": "from sklearn.preprocessing import LabelEncoder\nfrom sklearn.preprocessing import MinMaxScaler\nimport pandas as pd\n",
      "metadata": {
        "trusted": true
      },
      "outputs": [],
      "execution_count": 102
    },
    {
      "cell_type": "code",
      "source": "df = pd.read_csv('heart.attack.csv')",
      "metadata": {
        "trusted": true
      },
      "outputs": [],
      "execution_count": 103
    },
    {
      "cell_type": "markdown",
      "source": "Discretization \nWe opted for discretization of the following attributes (Age, Cholesterol Levels), to help us achieve many benefits, such as allowing us to focus on broader trends and patterns within specific groups rather than examining a continuous range which in return can reveal insights about the behavior and needs of these different groups. Also it will help our machine learning algorithms operate more effectively as interpreting and analysing the data will become much easier, and will help us make more informed decisions about the specific needs of each attribute group.",
      "metadata": {}
    },
    {
      "cell_type": "code",
      "source": "bins = [0, 17, 34, 65, 100]\nage_labels = ['Children','Young Adults', 'Older Adults' ,'Seniors']\n\n\ndf[' Age'] = pd.cut(df[' Age'], bins=bins, labels=age_labels)\n\nprint(df[' Age'])",
      "metadata": {
        "trusted": true
      },
      "outputs": [
        {
          "name": "stdout",
          "text": "0            Seniors\n1       Young Adults\n2       Young Adults\n3            Seniors\n4            Seniors\n            ...     \n3995         Seniors\n3996    Older Adults\n3997         Seniors\n3998         Seniors\n3999    Older Adults\nName:  Age, Length: 4000, dtype: category\nCategories (4, object): ['Children' < 'Young Adults' < 'Older Adults' < 'Seniors']\n",
          "output_type": "stream"
        }
      ],
      "execution_count": 104
    },
    {
      "cell_type": "markdown",
      "source": "When using the discretization method, first we defined the bin intervals based on what was suitable for our dataset’s information, then defined our labels that are compatible with our intervals. we converted patients age into age groups attributes such that:\n\n0-17 years: Children\n\n18-34 years: Young Adults\n\n35-56 years: Older Adults\n\n65-100: Seniors",
      "metadata": {}
    },
    {
      "cell_type": "code",
      "source": "bins = [0,200,239,400]\nCholesterol_labels = ['Normal', 'Borderline High', 'High']\n\n\ndf[' Cholesterol'] = pd.cut(df[' Cholesterol'], bins=bins, labels=Cholesterol_labels)\n\nprint(df[' Cholesterol'])",
      "metadata": {
        "trusted": true
      },
      "outputs": [
        {
          "name": "stdout",
          "text": "0       Borderline High\n1                  High\n2                  High\n3                  High\n4                  High\n             ...       \n3995    Borderline High\n3996             Normal\n3997             Normal\n3998               High\n3999             Normal\nName:  Cholesterol, Length: 4000, dtype: category\nCategories (3, object): ['Normal' < 'Borderline High' < 'High']\n",
          "output_type": "stream"
        }
      ],
      "execution_count": 105
    },
    {
      "cell_type": "markdown",
      "source": "And lastly, with the same steps as before, we converted patients Cholesterol levels into Cholesterol level groups attributes such that:\n\n0-200 mg/dl : Normal\n\n201-239 mg/dl : Borderline High\n\n240-400 mg/dl : High",
      "metadata": {}
    },
    {
      "cell_type": "code",
      "source": "#Extract the columns we need to normalize\ncolumns_to_normalize = ['Systolic BP' , 'Diastolic BP' , ' Heart Rate']\ndata_to_normalize = df[columns_to_normalize]\nminmax_scaler = MinMaxScaler()\nnormalized_data_minmax = minmax_scaler.fit_transform(data_to_normalize)\n# Replace the normalized values in the original dataFrame\ndf[columns_to_normalize] = normalized_data_minmax\n\nprint(\"Min-Max Scaled data (only 5th , 6th and 7th columns)\")\nprint(df)",
      "metadata": {
        "trusted": true
      },
      "outputs": [
        {
          "name": "stdout",
          "text": "Min-Max Scaled data (only 5th , 6th and 7th columns)\n     Patient ID           Age     Sex      Cholesterol  Systolic BP  \\\n0       BMW7812       Seniors    Male  Borderline High     0.755556   \n1       CZE1114  Young Adults    Male             High     0.833333   \n2       BNI9906  Young Adults  Female             High     0.933333   \n3       JLN3497       Seniors    Male             High     0.811111   \n4       GFO8847       Seniors    Male             High     0.011111   \n...         ...           ...     ...              ...          ...   \n3995    UII9280       Seniors    Male  Borderline High     0.911111   \n3996    SZU8764  Older Adults  Female           Normal     0.211111   \n3997    CQJ6551       Seniors    Male           Normal     0.700000   \n3998    DZQ4343       Seniors    Male             High     0.211111   \n3999    WER4678  Older Adults  Female           Normal     0.111111   \n\n      Diastolic BP   Heart Rate  Diabetes  Family History  Smoking       Diet  \\\n0             0.56     0.457143         0               0        1    Average   \n1             0.66     0.828571         1               1        1  Unhealthy   \n2             0.78     0.457143         1               0        0    Healthy   \n3             0.80     0.471429         1               1        1    Average   \n4             0.56     0.757143         1               1        1  Unhealthy   \n...            ...          ...       ...             ...      ...        ...   \n3995          0.62     0.271429         1               0        1    Healthy   \n3996          0.06     0.514286         1               1        1    Healthy   \n3997          1.00     0.985714         0               1        1    Healthy   \n3998          0.86     0.542857         1               1        1    Average   \n3999          0.74     0.857143         1               1        0    Healthy   \n\n          Continent  Heart Attack Risk  \n0     South America                  0  \n1     North America                  0  \n2            Europe                  1  \n3     North America                  0  \n4              Asia                  1  \n...             ...                ...  \n3995         Europe                  1  \n3996         Europe                  1  \n3997           Asia                  0  \n3998      Australia                  1  \n3999         Europe                  1  \n\n[4000 rows x 13 columns]\n",
          "output_type": "stream"
        }
      ],
      "execution_count": 121
    },
    {
      "cell_type": "markdown",
      "source": "Normalization\n\nWe used normalization for specific attributes to let the values fall within a smaller range and give them equal weight. In this case, we rescaled the systolic and diastolic blood pressure data between [0, 1] using Min-Max normalization. This will make it easier to understand and more efficient and give us accurate analysis and models. As we also normalize the heart rate feature, it makes no sense to pair someone with a heart rate of 0 with someone who has a heart rate of 30, as 0 indicates death, unlike people with heart rates of 30.",
      "metadata": {}
    },
    {
      "cell_type": "code",
      "source": "le = LabelEncoder()\ndf['Patient ID'] = le.fit_transform(df['Patient ID'])\ndf[' Age'] = le.fit_transform(df[' Age'])\ndf[' Cholesterol'] = le.fit_transform(df[' Cholesterol'])\ndf['Sex'] = le.fit_transform(df['Sex'])\ndf['Diet'] = le.fit_transform(df['Diet'])\ndf['Continent'] = le.fit_transform(df['Continent'])\n\nprint(df)",
      "metadata": {
        "trusted": true
      },
      "outputs": [
        {
          "name": "stdout",
          "text": "      Patient ID   Age  Sex   Cholesterol  Systolic BP  Diastolic BP  \\\n0            241     1    1             0     0.755556          0.56   \n1            455     2    1             1     0.833333          0.66   \n2            247     2    0             1     0.933333          0.78   \n3           1468     1    1             1     0.811111          0.80   \n4            972     1    1             1     0.011111          0.56   \n...          ...   ...  ...           ...          ...           ...   \n3995        3099     1    1             0     0.911111          0.62   \n3996        2881     0    0             2     0.211111          0.06   \n3997         400     1    1             2     0.700000          1.00   \n3998         623     1    1             1     0.211111          0.86   \n3999        3387     0    0             2     0.111111          0.74   \n\n       Heart Rate  Diabetes  Family History  Smoking  Diet  Continent  \\\n0        0.457143         0               0        1     0          5   \n1        0.828571         1               1        1     2          4   \n2        0.457143         1               0        0     1          3   \n3        0.471429         1               1        1     0          4   \n4        0.757143         1               1        1     2          1   \n...           ...       ...             ...      ...   ...        ...   \n3995     0.271429         1               0        1     1          3   \n3996     0.514286         1               1        1     1          3   \n3997     0.985714         0               1        1     1          1   \n3998     0.542857         1               1        1     0          2   \n3999     0.857143         1               1        0     1          3   \n\n      Heart Attack Risk  \n0                     0  \n1                     0  \n2                     1  \n3                     0  \n4                     1  \n...                 ...  \n3995                  1  \n3996                  1  \n3997                  0  \n3998                  1  \n3999                  1  \n\n[4000 rows x 13 columns]\n",
          "output_type": "stream"
        }
      ],
      "execution_count": 124
    },
    {
      "cell_type": "markdown",
      "source": "We did encoding to transform all categorical features to numeric to prepare the data for a machine learning model as encoding enhances integrity, efficiency and standardization. \n\nWe encoded the following features (Patient ID, Age, Sex, Cholesterol, Diet, Continent).",
      "metadata": {}
    },
    {
      "cell_type": "code",
      "source": "",
      "metadata": {
        "trusted": true
      },
      "outputs": [],
      "execution_count": null
    }
  ]
}