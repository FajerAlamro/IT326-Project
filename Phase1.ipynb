{
  "cells": [
    {
      "cell_type": "markdown",
      "metadata": {},
      "source": [
        "Phase 1:\n",
        "-------------\n",
        "Goal of collecting dataset:\n",
        "--------------\n",
        "Our objective is to leverage both classification and clustering techniques to develop a machine-learning model that predicts the risk of heart attacks in individuals. For classification, we aim to train our model to categorize individuals who have heart attack risks from those who don’t based on a comprehensive set of health and lifestyle factors. As for clustering, our model will be able to explore the underlying patterns within the data, identify distinct groups of individuals who share similar risk profiles, and create a set of clusters for these individuals, which in return will be used to predict new individuals’ results. "
      ]
    },
    {
      "cell_type": "markdown",
      "metadata": {},
      "source": [
        "Sourse of dataset:\n",
        "----\n",
        "Heart Attack Prediction: \n",
        "https://www.kaggle.com/datasets/m1relly/heart-attack-prediction/data"
      ]
    },
    {
      "cell_type": "markdown",
      "metadata": {},
      "source": [
        "Read dataset:\n",
        "--"
      ]
    },
    {
      "cell_type": "code",
      "execution_count": 30,
      "metadata": {
        "trusted": true
      },
      "outputs": [],
      "source": [
        "import pandas as pd\n",
        "import numpy as np\n",
        "import matplotlib.pyplot as plt\n",
        "df=pd.read_csv('Dataset/heart.attack.csv')"
      ]
    },
    {
      "cell_type": "markdown",
      "metadata": {},
      "source": [
        "General information about the dataset:\n",
        "--\n",
        "- Number of attributes: 12\n",
        "- Number of objects: 4000\n",
        "- Class label: Heart Attack Risk"
      ]
    },
    {
      "cell_type": "code",
      "execution_count": 14,
      "metadata": {},
      "outputs": [
        {
          "name": "stdout",
          "output_type": "stream",
          "text": [
            "Number of attributes: 12\n",
            "\n",
            "\n",
            "Attributes and their types:\n",
            "       Attribute Name Data Type\n",
            "0          Patient ID    object\n",
            "1                 Age     int64\n",
            "2                 Sex    object\n",
            "3         Cholesterol     int64\n",
            "4      Blood Pressure    object\n",
            "5          Heart Rate     int64\n",
            "6            Diabetes     int64\n",
            "7      Family History     int64\n",
            "8             Smoking     int64\n",
            "9                Diet    object\n",
            "10          Continent    object\n",
            "11  Heart Attack Risk     int64\n",
            "\n",
            "\n",
            "Number of objects: 4000\n"
          ]
        }
      ],
      "source": [
        "num_objects= len(df)\n",
        "attributes_info = pd.DataFrame({\n",
        "    'Attribute Name': df.columns,\n",
        "    'Data Type': df.dtypes.values\n",
        "})\n",
        "\n",
        "print(f\"Number of attributes: {len(df.columns)}\")\n",
        "print('\\n')\n",
        "print(\"Attributes and their types:\")\n",
        "print(attributes_info)\n",
        "print('\\n')\n",
        "print(f\"Number of objects: {num_objects}\")"
      ]
    },
    {
      "cell_type": "markdown",
      "metadata": {},
      "source": [
        "As we can see, there are 4,000 objects, a total of 12 columns. Regarding data types, there are 7 integer attributes and 5 object attributes."
      ]
    },
    {
      "cell_type": "markdown",
      "metadata": {},
      "source": [
        "Phase 2 :\n",
        "---------------\n",
        "Attributes’ description table:\n"
      ]
    },
    {
      "cell_type": "code",
      "execution_count": 15,
      "metadata": {},
      "outputs": [
        {
          "data": {
            "text/html": [
              "<style type=\"text/css\">\n",
              "#T_48229_row0_col0, #T_48229_row0_col1, #T_48229_row0_col2, #T_48229_row0_col3, #T_48229_row1_col0, #T_48229_row1_col1, #T_48229_row1_col2, #T_48229_row1_col3, #T_48229_row2_col0, #T_48229_row2_col1, #T_48229_row2_col2, #T_48229_row2_col3, #T_48229_row3_col0, #T_48229_row3_col1, #T_48229_row3_col2, #T_48229_row3_col3, #T_48229_row4_col0, #T_48229_row4_col1, #T_48229_row4_col2, #T_48229_row4_col3, #T_48229_row5_col0, #T_48229_row5_col1, #T_48229_row5_col2, #T_48229_row5_col3, #T_48229_row6_col0, #T_48229_row6_col1, #T_48229_row6_col2, #T_48229_row6_col3, #T_48229_row7_col0, #T_48229_row7_col1, #T_48229_row7_col2, #T_48229_row7_col3, #T_48229_row8_col0, #T_48229_row8_col1, #T_48229_row8_col2, #T_48229_row8_col3, #T_48229_row9_col0, #T_48229_row9_col1, #T_48229_row9_col2, #T_48229_row9_col3, #T_48229_row10_col0, #T_48229_row10_col1, #T_48229_row10_col2, #T_48229_row10_col3, #T_48229_row11_col0, #T_48229_row11_col1, #T_48229_row11_col2, #T_48229_row11_col3 {\n",
              "  text-align: center;\n",
              "}\n",
              "</style>\n",
              "<table id=\"T_48229\">\n",
              "  <thead>\n",
              "    <tr>\n",
              "      <th class=\"blank level0\" >&nbsp;</th>\n",
              "      <th id=\"T_48229_level0_col0\" class=\"col_heading level0 col0\" >Attribute Name</th>\n",
              "      <th id=\"T_48229_level0_col1\" class=\"col_heading level0 col1\" >Description</th>\n",
              "      <th id=\"T_48229_level0_col2\" class=\"col_heading level0 col2\" >Data Type</th>\n",
              "      <th id=\"T_48229_level0_col3\" class=\"col_heading level0 col3\" >Possible Values</th>\n",
              "    </tr>\n",
              "  </thead>\n",
              "  <tbody>\n",
              "    <tr>\n",
              "      <th id=\"T_48229_level0_row0\" class=\"row_heading level0 row0\" >0</th>\n",
              "      <td id=\"T_48229_row0_col0\" class=\"data row0 col0\" >Patient ID</td>\n",
              "      <td id=\"T_48229_row0_col1\" class=\"data row0 col1\" >Unique id of the patient</td>\n",
              "      <td id=\"T_48229_row0_col2\" class=\"data row0 col2\" >Nominal</td>\n",
              "      <td id=\"T_48229_row0_col3\" class=\"data row0 col3\" ></td>\n",
              "    </tr>\n",
              "    <tr>\n",
              "      <th id=\"T_48229_level0_row1\" class=\"row_heading level0 row1\" >1</th>\n",
              "      <td id=\"T_48229_row1_col0\" class=\"data row1 col0\" >Age</td>\n",
              "      <td id=\"T_48229_row1_col1\" class=\"data row1 col1\" >Patient's age</td>\n",
              "      <td id=\"T_48229_row1_col2\" class=\"data row1 col2\" >Numeric</td>\n",
              "      <td id=\"T_48229_row1_col3\" class=\"data row1 col3\" >Range between 18-90</td>\n",
              "    </tr>\n",
              "    <tr>\n",
              "      <th id=\"T_48229_level0_row2\" class=\"row_heading level0 row2\" >2</th>\n",
              "      <td id=\"T_48229_row2_col0\" class=\"data row2 col0\" >Sex</td>\n",
              "      <td id=\"T_48229_row2_col1\" class=\"data row2 col1\" >Gender of the patient</td>\n",
              "      <td id=\"T_48229_row2_col2\" class=\"data row2 col2\" >Binary</td>\n",
              "      <td id=\"T_48229_row2_col3\" class=\"data row2 col3\" >Female, Male</td>\n",
              "    </tr>\n",
              "    <tr>\n",
              "      <th id=\"T_48229_level0_row3\" class=\"row_heading level0 row3\" >3</th>\n",
              "      <td id=\"T_48229_row3_col0\" class=\"data row3 col0\" >Cholesterol</td>\n",
              "      <td id=\"T_48229_row3_col1\" class=\"data row3 col1\" >Exam result of cholesterol</td>\n",
              "      <td id=\"T_48229_row3_col2\" class=\"data row3 col2\" >Numeric</td>\n",
              "      <td id=\"T_48229_row3_col3\" class=\"data row3 col3\" >Range between 120-400</td>\n",
              "    </tr>\n",
              "    <tr>\n",
              "      <th id=\"T_48229_level0_row4\" class=\"row_heading level0 row4\" >4</th>\n",
              "      <td id=\"T_48229_row4_col0\" class=\"data row4 col0\" >Blood Pressure</td>\n",
              "      <td id=\"T_48229_row4_col1\" class=\"data row4 col1\" >Result of blood pressure</td>\n",
              "      <td id=\"T_48229_row4_col2\" class=\"data row4 col2\" >Numeric</td>\n",
              "      <td id=\"T_48229_row4_col3\" class=\"data row4 col3\" ></td>\n",
              "    </tr>\n",
              "    <tr>\n",
              "      <th id=\"T_48229_level0_row5\" class=\"row_heading level0 row5\" >5</th>\n",
              "      <td id=\"T_48229_row5_col0\" class=\"data row5 col0\" >Heart Rate</td>\n",
              "      <td id=\"T_48229_row5_col1\" class=\"data row5 col1\" >Heart beats</td>\n",
              "      <td id=\"T_48229_row5_col2\" class=\"data row5 col2\" >Numeric</td>\n",
              "      <td id=\"T_48229_row5_col3\" class=\"data row5 col3\" >Range between 40-110</td>\n",
              "    </tr>\n",
              "    <tr>\n",
              "      <th id=\"T_48229_level0_row6\" class=\"row_heading level0 row6\" >6</th>\n",
              "      <td id=\"T_48229_row6_col0\" class=\"data row6 col0\" >Diabetes</td>\n",
              "      <td id=\"T_48229_row6_col1\" class=\"data row6 col1\" >Diabetes? 1 means the patient has diabetes, 0 means the patient does not have diabetes</td>\n",
              "      <td id=\"T_48229_row6_col2\" class=\"data row6 col2\" >Binary</td>\n",
              "      <td id=\"T_48229_row6_col3\" class=\"data row6 col3\" >0,1</td>\n",
              "    </tr>\n",
              "    <tr>\n",
              "      <th id=\"T_48229_level0_row7\" class=\"row_heading level0 row7\" >7</th>\n",
              "      <td id=\"T_48229_row7_col0\" class=\"data row7 col0\" >Family History</td>\n",
              "      <td id=\"T_48229_row7_col1\" class=\"data row7 col1\" >Has the family heart attack story? 1 means the patient has a family heart attack history. 0 means he does not have</td>\n",
              "      <td id=\"T_48229_row7_col2\" class=\"data row7 col2\" >Binary</td>\n",
              "      <td id=\"T_48229_row7_col3\" class=\"data row7 col3\" >0,1</td>\n",
              "    </tr>\n",
              "    <tr>\n",
              "      <th id=\"T_48229_level0_row8\" class=\"row_heading level0 row8\" >8</th>\n",
              "      <td id=\"T_48229_row8_col0\" class=\"data row8 col0\" >Smoking</td>\n",
              "      <td id=\"T_48229_row8_col1\" class=\"data row8 col1\" >Smoking or not? 1 means the patient is smoking, 0 means he does not</td>\n",
              "      <td id=\"T_48229_row8_col2\" class=\"data row8 col2\" >Binary</td>\n",
              "      <td id=\"T_48229_row8_col3\" class=\"data row8 col3\" >0,1</td>\n",
              "    </tr>\n",
              "    <tr>\n",
              "      <th id=\"T_48229_level0_row9\" class=\"row_heading level0 row9\" >9</th>\n",
              "      <td id=\"T_48229_row9_col0\" class=\"data row9 col0\" >Diet</td>\n",
              "      <td id=\"T_48229_row9_col1\" class=\"data row9 col1\" >The patient on diet or not?</td>\n",
              "      <td id=\"T_48229_row9_col2\" class=\"data row9 col2\" >Nominal</td>\n",
              "      <td id=\"T_48229_row9_col3\" class=\"data row9 col3\" >\"Average\", \"Healthy\", \"Unhealthy\"</td>\n",
              "    </tr>\n",
              "    <tr>\n",
              "      <th id=\"T_48229_level0_row10\" class=\"row_heading level0 row10\" >10</th>\n",
              "      <td id=\"T_48229_row10_col0\" class=\"data row10 col0\" >Continent</td>\n",
              "      <td id=\"T_48229_row10_col1\" class=\"data row10 col1\" >On which continent is the patient located?</td>\n",
              "      <td id=\"T_48229_row10_col2\" class=\"data row10 col2\" >Nominal</td>\n",
              "      <td id=\"T_48229_row10_col3\" class=\"data row10 col3\" >\"Europe\", \"Africa\", \"Australia\", \"Asia\", \"South America\", \"North America\"</td>\n",
              "    </tr>\n",
              "    <tr>\n",
              "      <th id=\"T_48229_level0_row11\" class=\"row_heading level0 row11\" >11</th>\n",
              "      <td id=\"T_48229_row11_col0\" class=\"data row11 col0\" >Heart Attack Risk</td>\n",
              "      <td id=\"T_48229_row11_col1\" class=\"data row11 col1\" >The patient's risk of having a heart attack, 1 means the patient has heart attack risk, 0 means he does not have</td>\n",
              "      <td id=\"T_48229_row11_col2\" class=\"data row11 col2\" >Binary</td>\n",
              "      <td id=\"T_48229_row11_col3\" class=\"data row11 col3\" >0,1</td>\n",
              "    </tr>\n",
              "  </tbody>\n",
              "</table>\n"
            ],
            "text/plain": [
              "<pandas.io.formats.style.Styler at 0x774ac006cfb0>"
            ]
          },
          "execution_count": 15,
          "metadata": {},
          "output_type": "execute_result"
        }
      ],
      "source": [
        "data = {\n",
        "    \"Attribute Name\": [\n",
        "        \"Patient ID\", \"Age\", \"Sex\", \"Cholesterol\", \"Blood Pressure\", \"Heart Rate\", \"Diabetes\", \n",
        "        \"Family History\", \"Smoking\", \"Diet\", \"Continent\", \"Heart Attack Risk\"\n",
        "    ],\n",
        "    \"Description\": [\n",
        "        \"Unique id of the patient\", \"Patient's age\", \"Gender of the patient\", \"Exam result of cholesterol\", \n",
        "        \"Result of blood pressure\", \"Heart beats\", \"Diabetes? 1 means the patient has diabetes, 0 means the patient does not have diabetes\", \n",
        "        \"Has the family heart attack story? 1 means the patient has a family heart attack history. 0 means he does not have\", \n",
        "        \"Smoking or not? 1 means the patient is smoking, 0 means he does not\", \n",
        "        \"The patient on diet or not?\", \"On which continent is the patient located?\", \n",
        "        \"The patient's risk of having a heart attack, 1 means the patient has heart attack risk, 0 means he does not have\"\n",
        "    ],\n",
        "    \"Data Type\": [\n",
        "        \"Nominal\", \"Numeric\", \"Binary\", \"Numeric\", \"Numeric\", \"Numeric\", \"Binary\", \n",
        "        \"Binary\", \"Binary\", \"Nominal\", \"Nominal\", \"Binary\"\n",
        "    ],\n",
        "    \"Possible Values\": [\n",
        "        \"\", \"Range between 18-90\", \"Female, Male\", \"Range between 120-400\", \"\", \"Range between 40-110\", \"0,1\", \n",
        "        \"0,1\", \"0,1\", '\"Average\", \"Healthy\", \"Unhealthy\"', \n",
        "        '\"Europe\", \"Africa\", \"Australia\", \"Asia\", \"South America\", \"North America\"', \"0,1\"\n",
        "    ]\n",
        "}\n",
        "\n",
        "df = pd.DataFrame(data)\n",
        "\n",
        "df.style.set_properties(**{'text-align': 'center'})\n"
      ]
    },
    {
      "cell_type": "code",
      "execution_count": 27,
      "metadata": {},
      "outputs": [
        {
          "name": "stdout",
          "output_type": "stream",
          "text": [
            "     Patient ID   Age     Sex   Cholesterol Blood Pressure   Heart Rate  \\\n",
            "3708    GGP5072    36    Male           244         150/90           61   \n",
            "1469    MTY6835    37  Female           174         114/72           55   \n",
            "702     KZR3302    29  Female           290         171/69           93   \n",
            "3525    ZCO7946    27    Male           191         162/80           52   \n",
            "224     LMH8932    23  Female           337         133/82           48   \n",
            "3669    DSZ0030    85    Male           322        132/104           93   \n",
            "1411    IKV9138    59    Male           343         162/74           67   \n",
            "1841    RZD9305    49    Male           151         162/80          109   \n",
            "1684    HUF2443    19    Male           373         98/104           91   \n",
            "2228    FBI9619    81    Male           396         91/102           88   \n",
            "1906    ECR5683    37    Male           209         116/70           89   \n",
            "3864    RXH2187    54    Male           380         134/81           81   \n",
            "3682    HSW5305    26  Female           376         106/88          110   \n",
            "648     HPB9256    30    Male           244         118/64          102   \n",
            "2533    OWU7491    81    Male           189         124/64           92   \n",
            "776     DTK8818    32  Female           134         117/61           74   \n",
            "3847    ZYD5391    40    Male           351         176/62          103   \n",
            "2061    SEH5032    88    Male           322        104/110           43   \n",
            "3243    RVI3895    38    Male           304         167/97           61   \n",
            "312     RCM4245    50    Male           173         168/68           72   \n",
            "\n",
            "      Diabetes  Family History  Smoking       Diet      Continent  \\\n",
            "3708         1               1        1    Healthy         Europe   \n",
            "1469         1               0        0    Healthy      Australia   \n",
            "702          1               0        0    Healthy  South America   \n",
            "3525         1               0        1  Unhealthy           Asia   \n",
            "224          0               1        0    Average  South America   \n",
            "3669         0               0        1  Unhealthy  South America   \n",
            "1411         0               0        1  Unhealthy           Asia   \n",
            "1841         0               0        1    Average         Europe   \n",
            "1684         1               0        1  Unhealthy         Europe   \n",
            "2228         1               1        1  Unhealthy  South America   \n",
            "1906         1               0        1  Unhealthy         Europe   \n",
            "3864         1               0        1    Average         Africa   \n",
            "3682         0               0        0    Average  South America   \n",
            "648          1               1        1    Average           Asia   \n",
            "2533         1               0        1    Average         Europe   \n",
            "776          0               1        0  Unhealthy  North America   \n",
            "3847         0               0        1  Unhealthy         Europe   \n",
            "2061         1               1        1    Healthy         Europe   \n",
            "3243         1               1        1  Unhealthy           Asia   \n",
            "312          0               1        1    Healthy         Europe   \n",
            "\n",
            "      Heart Attack Risk  \n",
            "3708                  1  \n",
            "1469                  0  \n",
            "702                   1  \n",
            "3525                  1  \n",
            "224                   1  \n",
            "3669                  1  \n",
            "1411                  0  \n",
            "1841                  0  \n",
            "1684                  0  \n",
            "2228                  0  \n",
            "1906                  0  \n",
            "3864                  1  \n",
            "3682                  1  \n",
            "648                   0  \n",
            "2533                  1  \n",
            "776                   0  \n",
            "3847                  1  \n",
            "2061                  1  \n",
            "3243                  1  \n",
            "312                   0  \n"
          ]
        }
      ],
      "source": [
        "sample=df.sample(n=20);\n",
        "print(sample);"
      ]
    },
    {
      "cell_type": "code",
      "execution_count": 31,
      "metadata": {},
      "outputs": [
        {
          "data": {
            "image/png": "[encoded data removed]",
            "text/plain": [
              "<Figure size 600x600 with 1 Axes>"
            ]
          },
          "metadata": {},
          "output_type": "display_data"
        }
      ],
      "source": [
        "\n",
        "name = df['Sex'].value_counts().index.tolist()\n",
        "value = df['Sex'].value_counts().tolist()\n",
        "fig = plt.figure(figsize=(6,6))\n",
        "plt.pie(value, labels=name,autopct='%1.1f%%',colors=['#000080','#ADD8E6'])\n",
        "plt.title('Rate of genders')\n",
        "plt.show()"
      ]
    }
  ],
  "metadata": {
    "kernelspec": {
      "display_name": "Python 3",
      "language": "python",
      "name": "python3"
    },
    "language_info": {
      "codemirror_mode": {
        "name": "ipython",
        "version": 3
      },
      "file_extension": ".py",
      "mimetype": "text/x-python",
      "name": "python",
      "nbconvert_exporter": "python",
      "pygments_lexer": "ipython3",
      "version": "3.12.1"
    }
  },
  "nbformat": 4,
  "nbformat_minor": 4
}
