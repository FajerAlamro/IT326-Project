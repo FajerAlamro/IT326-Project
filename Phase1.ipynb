{
  "cells": [
    {
      "cell_type": "markdown",
      "metadata": {},
      "source": [
        "Goal of collecting dataset:\n",
        "--------------\n",
        "Our objective is to leverage both classification and clustering techniques to develop a machine-learning model that predicts the risk of heart attacks in individuals. For classification, we aim to train our model to categorize individuals who have heart attack risks from those who don’t based on a comprehensive set of health and lifestyle factors. As for clustering, our model will be able to explore the underlying patterns within the data, identify distinct groups of individuals who share similar risk profiles, and create a set of clusters for these individuals, which in return will be used to predict new individuals’ results. "
      ]
    },
    {
      "cell_type": "markdown",
      "metadata": {},
      "source": [
        "Sourse of dataset:\n",
        "----\n",
        "https://www.kaggle.com/datasets/m1relly/heart-attack-prediction/data"
      ]
    },
    {
      "cell_type": "markdown",
      "metadata": {},
      "source": [
        "Read dataset:\n",
        "--"
      ]
    },
    {
      "cell_type": "code",
      "execution_count": 5,
      "metadata": {
        "trusted": true
      },
      "outputs": [],
      "source": [
        "import pandas as pd\n",
        "df=pd.read_csv('Dataset/heart.attack.csv')"
      ]
    },
    {
      "cell_type": "markdown",
      "metadata": {},
      "source": [
        "General information about the dataset:\n",
        "--\n",
        "- Number of attributes: 12\n",
        "- Number of objects: 4000\n",
        "- Class label: Heart Attack Risk"
      ]
    },
    {
      "cell_type": "code",
      "execution_count": 6,
      "metadata": {},
      "outputs": [
        {
          "name": "stdout",
          "output_type": "stream",
          "text": [
            "<class 'pandas.core.frame.DataFrame'>\n",
            "RangeIndex: 3999 entries, 0 to 3998\n",
            "Data columns (total 12 columns):\n",
            " #   Column             Non-Null Count  Dtype \n",
            "---  ------             --------------  ----- \n",
            " 0   Patient ID         3999 non-null   object\n",
            " 1   Age                3999 non-null   int64 \n",
            " 2   Sex                3999 non-null   object\n",
            " 3   Cholesterol        3999 non-null   int64 \n",
            " 4   Blood Pressure     3999 non-null   object\n",
            " 5   Heart Rate         3999 non-null   int64 \n",
            " 6   Diabetes           3999 non-null   int64 \n",
            " 7   Family History     3999 non-null   int64 \n",
            " 8   Smoking            3999 non-null   int64 \n",
            " 9   Diet               3999 non-null   object\n",
            " 10  Continent          3999 non-null   object\n",
            " 11  Heart Attack Risk  3999 non-null   int64 \n",
            "dtypes: int64(7), object(5)\n",
            "memory usage: 375.0+ KB\n"
          ]
        }
      ],
      "source": [
        "df.info()"
      ]
    }
  ],
  "metadata": {
    "kernelspec": {
      "display_name": "Python 3",
      "language": "python",
      "name": "python3"
    },
    "language_info": {
      "codemirror_mode": {
        "name": "ipython",
        "version": 3
      },
      "file_extension": ".py",
      "mimetype": "text/x-python",
      "name": "python",
      "nbconvert_exporter": "python",
      "pygments_lexer": "ipython3",
      "version": "3.12.1"
    }
  },
  "nbformat": 4,
  "nbformat_minor": 4
}
