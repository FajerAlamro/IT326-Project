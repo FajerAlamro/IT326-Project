{
  "metadata": {
    "kernelspec": {
      "name": "python",
      "display_name": "Python (Pyodide)",
      "language": "python"
    },
    "language_info": {
      "codemirror_mode": {
        "name": "python",
        "version": 3
      },
      "file_extension": ".py",
      "mimetype": "text/x-python",
      "name": "python",
      "nbconvert_exporter": "python",
      "pygments_lexer": "ipython3",
      "version": "3.8"
    }
  },
  "nbformat_minor": 4,
  "nbformat": 4,
  "cells": [
    {
      "cell_type": "markdown",
      "source": "Goal of collecting dataset:\nOur objective is to leverage both classification and clustering techniques to develop a machine-learning model that predicts the risk of heart attacks in individuals. For classification, we aim to train our model to categorize individuals who have heart attack risks from those who don’t based on a comprehensive set of health and lifestyle factors. As for clustering, our model will be able to explore the underlying patterns within the data, identify distinct groups of individuals who share similar risk profiles, and create a set of clusters for these individuals, which in return will be used to predict new individuals’ results. ",
      "metadata": {}
    },
    {
      "cell_type": "markdown",
      "source": "Sourse of dataset:\nhttps://www.kaggle.com/datasets/m1relly/heart-attack-prediction/data",
      "metadata": {}
    },
    {
      "cell_type": "markdown",
      "source": "Read dataset:",
      "metadata": {}
    },
    {
      "cell_type": "code",
      "source": "import pandas as pd\ndf=pd.read_csv('heart.attack.csv')",
      "metadata": {
        "trusted": true
      },
      "outputs": [],
      "execution_count": 4
    },
    {
      "cell_type": "code",
      "source": "",
      "metadata": {
        "trusted": true
      },
      "outputs": [],
      "execution_count": null
    }
  ]
}