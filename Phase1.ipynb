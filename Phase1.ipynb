{
  "cells": [
    {
      "cell_type": "markdown",
      "metadata": {},
      "source": [
        "Phase 1:\n",
        "-------------\n",
        "Goal of collecting dataset:\n",
        "--------------\n",
        "Our objective is to leverage both classification and clustering techniques to develop a machine-learning model that predicts the risk of heart attacks in individuals. For classification, we aim to train our model to categorize individuals who have heart attack risks from those who don’t based on a comprehensive set of health and lifestyle factors. As for clustering, our model will be able to explore the underlying patterns within the data, identify distinct groups of individuals who share similar risk profiles, and create a set of clusters for these individuals, which in return will be used to predict new individuals’ results. "
      ]
    },
    {
      "cell_type": "markdown",
      "metadata": {},
      "source": [
        "Sourse of dataset:\n",
        "----\n",
        "Heart Attack Prediction: \n",
        "https://www.kaggle.com/datasets/m1relly/heart-attack-prediction/data"
      ]
    },
    {
      "cell_type": "markdown",
      "metadata": {},
      "source": [
        "Read dataset:\n",
        "--"
      ]
    },
    {
      "cell_type": "code",
      "execution_count": 1,
      "metadata": {
        "trusted": true
      },
      "outputs": [],
      "source": [
        "import pandas as pd\n",
        "df=pd.read_csv('Dataset/heart.attack.csv')"
      ]
    },
    {
      "cell_type": "markdown",
      "metadata": {},
      "source": [
        "General information about the dataset:\n",
        "--\n",
        "- Number of attributes: 12\n",
        "- Number of objects: 4000\n",
        "- Class label: Heart Attack Risk"
      ]
    },
    {
      "cell_type": "code",
      "execution_count": 12,
      "metadata": {},
      "outputs": [
        {
          "name": "stdout",
          "output_type": "stream",
          "text": [
            "Number of attributes: 12\n",
            "\n",
            "\n",
            "Attributes and their types:\n",
            "       Attribute Name Data Type\n",
            "0          Patient ID    object\n",
            "1                 Age     int64\n",
            "2                 Sex    object\n",
            "3         Cholesterol     int64\n",
            "4      Blood Pressure    object\n",
            "5          Heart Rate     int64\n",
            "6            Diabetes     int64\n",
            "7      Family History     int64\n",
            "8             Smoking     int64\n",
            "9                Diet    object\n",
            "10          Continent    object\n",
            "11  Heart Attack Risk     int64\n",
            "\n",
            "\n",
            "Number of objects: 4000\n"
          ]
        }
      ],
      "source": [
        "num_objects= len(df)\n",
        "attributes_info = pd.DataFrame({\n",
        "    'Attribute Name': df.columns,\n",
        "    'Data Type': df.dtypes.values\n",
        "})\n",
        "\n",
        "print(f\"Number of attributes: {len(df.columns)}\")\n",
        "print('\\n')\n",
        "print(\"Attributes and their types:\")\n",
        "print(attributes_info)\n",
        "print('\\n')\n",
        "print(f\"Number of objects: {num_objects}\")"
      ]
    },
    {
      "cell_type": "markdown",
      "metadata": {},
      "source": [
        "As we can see, there are 4,000 objects, a total of 12 columns. Regarding data types, there are 7 integer attributes and 5 object attributes."
      ]
    },
    {
      "cell_type": "markdown",
      "metadata": {},
      "source": [
        "Phase 2 :\n",
        "---------------\n",
        "Attributes’ description table:\n"
      ]
    }
  ],
  "metadata": {
    "kernelspec": {
      "display_name": "Python 3",
      "language": "python",
      "name": "python3"
    },
    "language_info": {
      "codemirror_mode": {
        "name": "ipython",
        "version": 3
      },
      "file_extension": ".py",
      "mimetype": "text/x-python",
      "name": "python",
      "nbconvert_exporter": "python",
      "pygments_lexer": "ipython3",
      "version": "3.12.1"
    }
  },
  "nbformat": 4,
  "nbformat_minor": 4
}
