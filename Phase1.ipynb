{
  "cells": [
    {
      "cell_type": "markdown",
      "metadata": {},
      "source": [
        "Goal of collecting dataset:\n",
        "--------------\n",
        "Our objective is to leverage both classification and clustering techniques to develop a machine-learning model that predicts the risk of heart attacks in individuals. For classification, we aim to train our model to categorize individuals who have heart attack risks from those who don’t based on a comprehensive set of health and lifestyle factors. As for clustering, our model will be able to explore the underlying patterns within the data, identify distinct groups of individuals who share similar risk profiles, and create a set of clusters for these individuals, which in return will be used to predict new individuals’ results. "
      ]
    },
    {
      "cell_type": "markdown",
      "metadata": {},
      "source": [
        "Sourse of dataset:\n",
        "----\n",
        "https://www.kaggle.com/datasets/m1relly/heart-attack-prediction/data"
      ]
    },
    {
      "cell_type": "markdown",
      "metadata": {},
      "source": [
        "Read dataset:\n",
        "--"
      ]
    },
    {
      "cell_type": "code",
      "execution_count": 4,
      "metadata": {
        "trusted": true
      },
      "outputs": [],
      "source": [
        "import pandas as pd\n",
        "df=pd.read_csv('heart.attack.csv')"
      ]
    },
    {
      "cell_type": "markdown",
      "metadata": {},
      "source": [
        "General information about the dataset:\n",
        "--\n",
        "- Number of attributes: 12\n",
        "- Number of objects: 4000\n",
        "- Class label: Heart Attack Risk"
      ]
    }
  ],
  "metadata": {
    "kernelspec": {
      "display_name": "Python (Pyodide)",
      "language": "python",
      "name": "python"
    },
    "language_info": {
      "codemirror_mode": {
        "name": "python",
        "version": 3
      },
      "file_extension": ".py",
      "mimetype": "text/x-python",
      "name": "python",
      "nbconvert_exporter": "python",
      "pygments_lexer": "ipython3",
      "version": "3.8"
    }
  },
  "nbformat": 4,
  "nbformat_minor": 4
}
