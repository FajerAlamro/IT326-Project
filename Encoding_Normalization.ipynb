{
  "nbformat": 4,
  "nbformat_minor": 0,
  "metadata": {
    "colab": {
      "provenance": []
    },
    "kernelspec": {
      "name": "python3",
      "display_name": "Python 3"
    },
    "language_info": {
      "name": "python"
    }
  },
  "cells": [
    {
      "cell_type": "code",
      "execution_count": 1,
      "metadata": {
        "id": "5QDQehupDiR_"
      },
      "outputs": [],
      "source": [
        "from sklearn.preprocessing import LabelEncoder\n",
        "from sklearn.preprocessing import MinMaxScaler\n",
        "import pandas as pd\n",
        "from scipy import stats"
      ]
    },
    {
      "cell_type": "code",
      "source": [
        "df=pd.read_csv('heart.attack.csv')\n",
        "le = LabelEncoder()\n",
        "df['Patient ID'] = le.fit_transform(df['Patient ID'])\n",
        "df['Sex'] = le.fit_transform(df['Sex'])\n",
        "df['Diet'] = le.fit_transform(df['Diet'])\n",
        "df['Continent'] = le.fit_transform(df['Continent'])\n",
        "\n",
        "print(df)"
      ],
      "metadata": {
        "colab": {
          "base_uri": "https://localhost:8080/"
        },
        "id": "8NGCeoaxDyWv",
        "outputId": "34fe6a7b-4e28-40ab-c0a2-8fc5fa54f553"
      },
      "execution_count": 3,
      "outputs": [
        {
          "output_type": "stream",
          "name": "stdout",
          "text": [
            "      Patient ID  Age  Sex  Cholesterol Blood Pressure  Heart Rate  Diabetes  \\\n",
            "0            241   67    1          208         158/88          72         0   \n",
            "1            455   21    1          389         165/93          98         1   \n",
            "2            247   21    0          324         174/99          72         1   \n",
            "3           1469   84    1          383        163/100          73         1   \n",
            "4            972   66    1          318          91/88          93         1   \n",
            "...          ...  ...  ...          ...            ...         ...       ...   \n",
            "3994        2863   22    1          257         134/63          75         1   \n",
            "3995        3099   66    1          201         172/91          59         1   \n",
            "3996        2881   42    0          129         109/63          76         1   \n",
            "3997         400   81    1          127        153/110         109         0   \n",
            "3998         623   81    1          333        109/103          78         1   \n",
            "\n",
            "      Family History  Smoking  Diet  Continent  Heart Attack Risk  \n",
            "0                  0        1     0          5                  0  \n",
            "1                  1        1     2          4                  0  \n",
            "2                  0        0     1          3                  0  \n",
            "3                  1        1     0          4                  0  \n",
            "4                  1        1     2          1                  0  \n",
            "...              ...      ...   ...        ...                ...  \n",
            "3994               1        1     0          1                  0  \n",
            "3995               0        1     1          3                  0  \n",
            "3996               1        1     1          3                  0  \n",
            "3997               1        1     1          1                  0  \n",
            "3998               1        1     0          2                  1  \n",
            "\n",
            "[3999 rows x 12 columns]\n"
          ]
        }
      ]
    },
    {
      "cell_type": "code",
      "source": [
        "#Extract the columns we need to normalize\n",
        "columns_to_normalize = ['Age' , 'Cholesterol','Heart Rate']\n",
        "data_to_normalize = df[columns_to_normalize]"
      ],
      "metadata": {
        "id": "7NuQDiJlEDAf"
      },
      "execution_count": 4,
      "outputs": []
    },
    {
      "cell_type": "code",
      "source": [
        "minmax_scaler = MinMaxScaler()\n",
        "normalized_data_minmax = minmax_scaler.fit_transform(data_to_normalize)"
      ],
      "metadata": {
        "id": "kvTUKLMaEEQZ"
      },
      "execution_count": 5,
      "outputs": []
    },
    {
      "cell_type": "code",
      "source": [
        "# Replace the normalized values in the original dataFrame\n",
        "df[columns_to_normalize] = normalized_data_minmax\n",
        "\n",
        "print(\"Min-Max Scaled data(only 2nd ,4th and 6th columns): \")\n",
        "print(df)"
      ],
      "metadata": {
        "colab": {
          "base_uri": "https://localhost:8080/"
        },
        "id": "onV4qukYEHkI",
        "outputId": "1f5d26a2-f7af-4528-b452-62c12e2975dc"
      },
      "execution_count": 6,
      "outputs": [
        {
          "output_type": "stream",
          "name": "stdout",
          "text": [
            "Min-Max Scaled data(only 2nd ,4th and 6th columns): \n",
            "      Patient ID       Age  Sex  Cholesterol Blood Pressure  Heart Rate  \\\n",
            "0            241  0.680556    1     0.314286         158/88    0.457143   \n",
            "1            455  0.041667    1     0.960714         165/93    0.828571   \n",
            "2            247  0.041667    0     0.728571         174/99    0.457143   \n",
            "3           1469  0.916667    1     0.939286        163/100    0.471429   \n",
            "4            972  0.666667    1     0.707143          91/88    0.757143   \n",
            "...          ...       ...  ...          ...            ...         ...   \n",
            "3994        2863  0.055556    1     0.489286         134/63    0.500000   \n",
            "3995        3099  0.666667    1     0.289286         172/91    0.271429   \n",
            "3996        2881  0.333333    0     0.032143         109/63    0.514286   \n",
            "3997         400  0.875000    1     0.025000        153/110    0.985714   \n",
            "3998         623  0.875000    1     0.760714        109/103    0.542857   \n",
            "\n",
            "      Diabetes  Family History  Smoking  Diet  Continent  Heart Attack Risk  \n",
            "0            0               0        1     0          5                  0  \n",
            "1            1               1        1     2          4                  0  \n",
            "2            1               0        0     1          3                  0  \n",
            "3            1               1        1     0          4                  0  \n",
            "4            1               1        1     2          1                  0  \n",
            "...        ...             ...      ...   ...        ...                ...  \n",
            "3994         1               1        1     0          1                  0  \n",
            "3995         1               0        1     1          3                  0  \n",
            "3996         1               1        1     1          3                  0  \n",
            "3997         0               1        1     1          1                  0  \n",
            "3998         1               1        1     0          2                  1  \n",
            "\n",
            "[3999 rows x 12 columns]\n"
          ]
        }
      ]
    }
  ]
}