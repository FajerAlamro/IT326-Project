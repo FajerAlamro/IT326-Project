{
  "metadata": {
    "kernelspec": {
      "name": "python",
      "display_name": "Python (Pyodide)",
      "language": "python"
    },
    "language_info": {
      "codemirror_mode": {
        "name": "python",
        "version": 3
      },
      "file_extension": ".py",
      "mimetype": "text/x-python",
      "name": "python",
      "nbconvert_exporter": "python",
      "pygments_lexer": "ipython3",
      "version": "3.8"
    }
  },
  "nbformat_minor": 4,
  "nbformat": 4,
  "cells": [
    {
      "cell_type": "code",
      "source": "from sklearn.preprocessing import LabelEncoder\nimport pandas as pd\nfrom scipy import stats\n",
      "metadata": {
        "trusted": true
      },
      "outputs": [],
      "execution_count": 51
    },
    {
      "cell_type": "code",
      "source": "df=pd.read_csv('heart.attack.csv')\nle = LabelEncoder()\ndf['Patient ID'] = le.fit_transform(df['Patient ID'])\ndf['Sex'] = le.fit_transform(df['Sex'])\ndf['Diet'] = le.fit_transform(df['Diet'])\ndf['Continent'] = le.fit_transform(df['Continent'])\n\nprint(df)\n\n\n\n",
      "metadata": {
        "trusted": true
      },
      "outputs": [
        {
          "name": "stdout",
          "text": "      Patient ID  Age  Sex  Cholesterol Blood Pressure  Heart Rate  Diabetes  \\\n0            241   67    1          208         158/88          72         0   \n1            455   21    1          389         165/93          98         1   \n2            247   21    0          324         174/99          72         1   \n3           1469   84    1          383        163/100          73         1   \n4            972   66    1          318          91/88          93         1   \n...          ...  ...  ...          ...            ...         ...       ...   \n3994        2863   22    1          257         134/63          75         1   \n3995        3099   66    1          201         172/91          59         1   \n3996        2881   42    0          129         109/63          76         1   \n3997         400   81    1          127        153/110         109         0   \n3998         623   81    1          333        109/103          78         1   \n\n      Family History  Smoking  Diet  Continent  Heart Attack Risk  \n0                  0        1     0          5                  0  \n1                  1        1     2          4                  0  \n2                  0        0     1          3                  0  \n3                  1        1     0          4                  0  \n4                  1        1     2          1                  0  \n...              ...      ...   ...        ...                ...  \n3994               1        1     0          1                  0  \n3995               0        1     1          3                  0  \n3996               1        1     1          3                  0  \n3997               1        1     1          1                  0  \n3998               1        1     0          2                  1  \n\n[3999 rows x 12 columns]\n",
          "output_type": "stream"
        }
      ],
      "execution_count": 52
    },
    {
      "cell_type": "code",
      "source": "",
      "metadata": {
        "trusted": true
      },
      "outputs": [],
      "execution_count": null
    }
  ]
}